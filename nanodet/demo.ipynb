{
 "cells": [
  {
   "cell_type": "code",
   "execution_count": 1,
   "metadata": {
    "collapsed": true,
    "pycharm": {
     "name": "#%%\n"
    }
   },
   "outputs": [],
   "source": [
    "import mindspore.nn as nn\n",
    "import mindspore as ms\n",
    "from mindspore import Parameter,Tensor\n",
    "import numpy as np"
   ]
  },
  {
   "cell_type": "code",
   "execution_count": 2,
   "outputs": [],
   "source": [
    "# conv_weight = Tensor(np.array([[3,2,1],[2,3,2],[1,2,3]]),ms.float32).reshape(1,1,3,3)\n",
    "x = Tensor(np.full((1,1,5,5), 2, np.float32))\n",
    "conv = nn.Conv2d(in_channels=3,out_channels=112,kernel_size=3,pad_mode='same',has_bias=True)\n",
    "bn = nn.BatchNorm2d(112)"
   ],
   "metadata": {
    "collapsed": false,
    "pycharm": {
     "name": "#%%\n"
    }
   }
  },
  {
   "cell_type": "code",
   "execution_count": 32,
   "outputs": [
    {
     "data": {
      "text/plain": "Parameter (name=mean, shape=(112,), dtype=Float32, requires_grad=False)"
     },
     "execution_count": 32,
     "metadata": {},
     "output_type": "execute_result"
    }
   ],
   "source": [
    "bn.moving_mean"
   ],
   "metadata": {
    "collapsed": false,
    "pycharm": {
     "name": "#%%\n"
    }
   }
  },
  {
   "cell_type": "code",
   "execution_count": 17,
   "outputs": [
    {
     "data": {
      "text/plain": "(112,)"
     },
     "execution_count": 17,
     "metadata": {},
     "output_type": "execute_result"
    }
   ],
   "source": [
    "conv.bias.data.shape"
   ],
   "metadata": {
    "collapsed": false,
    "pycharm": {
     "name": "#%%\n"
    }
   }
  },
  {
   "cell_type": "code",
   "execution_count": 12,
   "outputs": [
    {
     "data": {
      "text/plain": "Tensor(shape=[1], dtype=Float32, value= [1.00000000e+001])"
     },
     "execution_count": 12,
     "metadata": {},
     "output_type": "execute_result"
    }
   ],
   "source": [
    "Tensor(conv.bias)"
   ],
   "metadata": {
    "collapsed": false,
    "pycharm": {
     "name": "#%%\n"
    }
   }
  },
  {
   "cell_type": "code",
   "execution_count": 14,
   "outputs": [],
   "source": [
    "out = conv(x)"
   ],
   "metadata": {
    "collapsed": false,
    "pycharm": {
     "name": "#%%\n"
    }
   }
  },
  {
   "cell_type": "code",
   "execution_count": 15,
   "outputs": [
    {
     "data": {
      "text/plain": "Tensor(shape=[1, 1, 5, 5], dtype=Float32, value=\n[[[[2.00000000e+001, 2.60000000e+001, 2.60000000e+001, 2.60000000e+001, 1.60000000e+001],\n   [2.60000000e+001, 3.80000000e+001, 3.80000000e+001, 3.80000000e+001, 2.60000000e+001],\n   [2.60000000e+001, 3.80000000e+001, 3.80000000e+001, 3.80000000e+001, 2.60000000e+001],\n   [2.60000000e+001, 3.80000000e+001, 3.80000000e+001, 3.80000000e+001, 2.60000000e+001],\n   [1.60000000e+001, 2.60000000e+001, 2.60000000e+001, 2.60000000e+001, 2.00000000e+001]]]])"
     },
     "execution_count": 15,
     "metadata": {},
     "output_type": "execute_result"
    }
   ],
   "source": [
    "out"
   ],
   "metadata": {
    "collapsed": false,
    "pycharm": {
     "name": "#%%\n"
    }
   }
  },
  {
   "cell_type": "code",
   "execution_count": 35,
   "outputs": [],
   "source": [
    "test = Tensor(np.arange(0,12).reshape((1,1,3,4)))"
   ],
   "metadata": {
    "collapsed": false,
    "pycharm": {
     "name": "#%%\n"
    }
   }
  },
  {
   "cell_type": "code",
   "execution_count": 36,
   "outputs": [
    {
     "data": {
      "text/plain": "Tensor(shape=[1, 1, 3, 4], dtype=Int32, value=\n[[[[ 0,  1,  2,  3],\n   [ 4,  5,  6,  7],\n   [ 8,  9, 10, 11]]]])"
     },
     "execution_count": 36,
     "metadata": {},
     "output_type": "execute_result"
    }
   ],
   "source": [
    "test"
   ],
   "metadata": {
    "collapsed": false,
    "pycharm": {
     "name": "#%%\n"
    }
   }
  },
  {
   "cell_type": "code",
   "execution_count": 39,
   "outputs": [
    {
     "data": {
      "text/plain": "Tensor(shape=[12], dtype=Int32, value= [ 0,  1,  2,  3,  4,  5,  6,  7,  8,  9, 10, 11])"
     },
     "execution_count": 39,
     "metadata": {},
     "output_type": "execute_result"
    }
   ],
   "source": [
    "test.flatten()"
   ],
   "metadata": {
    "collapsed": false,
    "pycharm": {
     "name": "#%%\n"
    }
   }
  },
  {
   "cell_type": "code",
   "execution_count": 3,
   "outputs": [],
   "source": [
    "onehot = ms.ops.OneHot()"
   ],
   "metadata": {
    "collapsed": false,
    "pycharm": {
     "name": "#%%\n"
    }
   }
  },
  {
   "cell_type": "code",
   "execution_count": 6,
   "outputs": [
    {
     "data": {
      "text/plain": "Tensor(shape=[5, 4], dtype=Int32, value=\n[[1, 0, 0, 0],\n [0, 0, 1, 0],\n [0, 0, 0, 1],\n [0, 1, 0, 0],\n [0, 0, 0, 0]])"
     },
     "execution_count": 6,
     "metadata": {},
     "output_type": "execute_result"
    }
   ],
   "source": [
    "label = Tensor([0,2,3,1,4])\n",
    "onehot(label, 4, Tensor(1),Tensor(0))"
   ],
   "metadata": {
    "collapsed": false,
    "pycharm": {
     "name": "#%%\n"
    }
   }
  },
  {
   "cell_type": "code",
   "execution_count": null,
   "outputs": [],
   "source": [
    "\n",
    "def prepare_targets(self, targets, anchors):\n",
    "    INF = 1000000\n",
    "    cls_labels = []\n",
    "    reg_targets = []\n",
    "    for im_i in range(len(targets)):\n",
    "        targets_per_im = targets[im_i]\n",
    "        assert targets_per_im.mode == \"xyxy\"\n",
    "        bboxes_per_im = targets_per_im.bbox\n",
    "        labels_per_im = targets_per_im.get_field(\"labels\")\n",
    "        anchors_per_im = cat_boxlist(anchors[im_i])\n",
    "        num_gt = bboxes_per_im.shape[0];\n",
    "        num_anchors_per_loc = len(self.cfg.MODEL.ATSS.ASPECT_RATIOS) * self.cfg.MODEL.ATSS.SCALES_PER_OCTAVE\n",
    "\n",
    "        num_anchors_per_level = [len(anchors_per_level.bbox) for anchors_per_level in anchors[im_i]]\n",
    "        ious = boxlist_iou(anchors_per_im, targets_per_im)\n",
    "\n",
    "        gt_cx = (bboxes_per_im[:, 2] + bboxes_per_im[:, 0]) / 2.0\n",
    "        gt_cy = (bboxes_per_im[:, 3] + bboxes_per_im[:, 1]) / 2.0\n",
    "        gt_points = torch.stack((gt_cx, gt_cy), dim=1)\n",
    "\n",
    "        anchors_cx_per_im = (anchors_per_im.bbox[:, 2] + anchors_per_im.bbox[:, 0]) / 2.0\n",
    "        anchors_cy_per_im = (anchors_per_im.bbox[:, 3] + anchors_per_im.bbox[:, 1]) / 2.0\n",
    "        anchor_points = torch.stack((anchors_cx_per_im, anchors_cy_per_im), dim=1)\n",
    "\n",
    "        distances = (anchor_points[:, None, :] - gt_points[None, :, :]).pow(2).sum(-1).sqrt()\n",
    "\n",
    "        # Selecting candidates based on the center distance between anchor box and object\n",
    "        candidate_idxs = []\n",
    "        star_idx = 0\n",
    "        for level, anchors_per_level in enumerate(anchors[im_i]):\n",
    "            end_idx = star_idx + num_anchors_per_level[level]\n",
    "            distances_per_level = distances[star_idx:end_idx, :]\n",
    "            topk = min(self.cfg.MODEL.ATSS.TOPK * num_anchors_per_loc, num_anchors_per_level[level])\n",
    "            _, topk_idxs_per_level = distances_per_level.topk(topk, dim=0, largest=False)\n",
    "            candidate_idxs.append(topk_idxs_per_level + star_idx)\n",
    "            star_idx = end_idx\n",
    "        candidate_idxs = torch.cat(candidate_idxs, dim=0)\n",
    "\n",
    "        # Using the sum of mean and standard deviation as the IoU threshold to select final positive samples\n",
    "        candidate_ious = ious[candidate_idxs, torch.arange(num_gt)]\n",
    "        iou_mean_per_gt = candidate_ious.mean(0)\n",
    "        iou_std_per_gt = candidate_ious.std(0)\n",
    "        iou_thresh_per_gt = iou_mean_per_gt + iou_std_per_gt\n",
    "        is_pos = candidate_ious >= iou_thresh_per_gt[None, :]\n",
    "\n",
    "        # Limiting the final positive samples’ center to object\n",
    "        anchor_num = anchors_cx_per_im.shape[0]\n",
    "        for ng in range(num_gt):\n",
    "            candidate_idxs[:, ng] += ng * anchor_num\n",
    "        e_anchors_cx = anchors_cx_per_im.view(1, -1).expand(num_gt, anchor_num).contiguous().view(-1)\n",
    "        e_anchors_cy = anchors_cy_per_im.view(1, -1).expand(num_gt, anchor_num).contiguous().view(-1)\n",
    "        candidate_idxs = candidate_idxs.view(-1)\n",
    "        l = e_anchors_cx[candidate_idxs].view(-1, num_gt) - bboxes_per_im[:, 0]\n",
    "        t = e_anchors_cy[candidate_idxs].view(-1, num_gt) - bboxes_per_im[:, 1]\n",
    "        r = bboxes_per_im[:, 2] - e_anchors_cx[candidate_idxs].view(-1, num_gt)\n",
    "        b = bboxes_per_im[:, 3] - e_anchors_cy[candidate_idxs].view(-1, num_gt)\n",
    "        is_in_gts = torch.stack([l, t, r, b], dim=1).min(dim=1)[0] > 0.01\n",
    "        is_pos = is_pos & is_in_gts\n",
    "\n",
    "        # if an anchor box is assigned to multiple gts, the one with the highest IoU will be selected.\n",
    "        ious_inf = torch.full_like(ious, -INF).t().contiguous().view(-1)\n",
    "        index = candidate_idxs.view(-1)[is_pos.view(-1)]\n",
    "        ious_inf[index] = ious.t().contiguous().view(-1)[index]\n",
    "        ious_inf = ious_inf.view(num_gt, -1).t()\n",
    "\n",
    "        anchors_to_gt_values, anchors_to_gt_indexs = ious_inf.max(dim=1)\n",
    "        cls_labels_per_im = labels_per_im[anchors_to_gt_indexs]\n",
    "        cls_labels_per_im[anchors_to_gt_values == -INF] = 0\n",
    "        matched_gts = bboxes_per_im[anchors_to_gt_indexs]\n",
    "\n",
    "        reg_targets_per_im = self.box_coder.encode(matched_gts, anchors_per_im.bbox)\n",
    "        cls_labels.append(cls_labels_per_im)\n",
    "        reg_targets.append(reg_targets_per_im)\n",
    "\n",
    "    return cls_labels,reg_targets"
   ],
   "metadata": {
    "collapsed": false,
    "pycharm": {
     "name": "#%%\n"
    }
   }
  },
  {
   "cell_type": "code",
   "execution_count": 1,
   "outputs": [],
   "source": [
    "import mindspore.common.dtype as mstype\n",
    "import mindspore as ms\n",
    "import mindspore.nn as nn\n",
    "import mindspore.numpy as mnp\n",
    "from mindspore import context, Tensor\n",
    "from mindspore.ops import operations as P\n",
    "from mindspore.ops import functional as F\n",
    "from mindspore.ops import composite as C\n",
    "from mindspore.parallel._auto_parallel_context import auto_parallel_context\n",
    "from mindspore.communication.management import get_group_size\n",
    "from mindspore.context import ParallelMode\n",
    "from mindspore import Parameter\n",
    "\n",
    "class QualityFocalLoss(nn.Cell):\n",
    "    def __init__(self, beta=2.0):\n",
    "        super(QualityFocalLoss, self).__init__()\n",
    "        self.sigmoid = P.Sigmoid()\n",
    "        self.sigmiod_cross_entropy = P.SigmoidCrossEntropyWithLogits()\n",
    "        self.pow = P.Pow()\n",
    "        self.abs = P.Abs()\n",
    "        self.onehot = P.OneHot()\n",
    "        self.on_value = Tensor(1.0, mstype.float32)\n",
    "        self.off_value = Tensor(0.0, mstype.float32)\n",
    "        self.tile = P.Tile()\n",
    "        self.expand_dims = P.ExpandDims()\n",
    "        self.beta = beta\n",
    "\n",
    "    def construct(self, logits, label, score):\n",
    "        # print(logits[0])\n",
    "        logits_sigmoid = self.sigmoid(logits)\n",
    "        label = self.onehot(label, F.shape(logits)[-1], self.on_value, self.off_value)\n",
    "        score = self.tile(self.expand_dims(score, -1), (1, 1, F.shape(logits)[-1]))\n",
    "        label = label * score\n",
    "        sigmiod_cross_entropy = self.sigmiod_cross_entropy(logits, label)\n",
    "        modulating_factor = self.pow(self.abs(label - logits_sigmoid), self.beta)\n",
    "        qfl_loss = sigmiod_cross_entropy * modulating_factor\n",
    "        return qfl_loss"
   ],
   "metadata": {
    "collapsed": false,
    "pycharm": {
     "name": "#%%\n"
    }
   }
  },
  {
   "cell_type": "code",
   "execution_count": 2,
   "outputs": [],
   "source": [
    "import numpy as np"
   ],
   "metadata": {
    "collapsed": false,
    "pycharm": {
     "name": "#%%\n"
    }
   }
  },
  {
   "cell_type": "code",
   "execution_count": 9,
   "outputs": [],
   "source": [
    "np.random.seed(1)\n",
    "label = Tensor(np.random.randint(0, 7 ,size=(1,10)),ms.int32)\n",
    "score = Tensor(np.random.rand(1,10), ms.float32)\n",
    "pred = Tensor(np.random.rand(1,10,7), ms.float32)\n",
    "qfl = QualityFocalLoss()"
   ],
   "metadata": {
    "collapsed": false,
    "pycharm": {
     "name": "#%%\n"
    }
   }
  },
  {
   "cell_type": "code",
   "execution_count": 10,
   "outputs": [],
   "source": [
    "qfl_out = qfl(pred,label,score)"
   ],
   "metadata": {
    "collapsed": false,
    "pycharm": {
     "name": "#%%\n"
    }
   }
  },
  {
   "cell_type": "code",
   "execution_count": 11,
   "outputs": [
    {
     "data": {
      "text/plain": "Tensor(shape=[1, 10, 7], dtype=Float32, value=\n[[[3.35580468e-001, 4.09142345e-001, 2.19223887e-001 ... 5.58021903e-001, 3.21840227e-001, 2.87731856e-001],\n  [4.87759560e-001, 6.10424519e-001, 6.23453081e-001 ... 1.85243577e-001, 2.29926199e-001, 6.11671627e-001],\n  [2.04597220e-001, 3.37430745e-001, 6.69921279e-001 ... 5.98448291e-002, 2.88644433e-001, 4.84150261e-001],\n  ...\n  [3.21578644e-002, 4.70233291e-001, 3.85300308e-001 ... 4.24804866e-001, 6.29799187e-001, 2.18185946e-001],\n  [1.96005374e-001, 5.62516034e-001, 3.26141834e-001 ... 6.47379518e-001, 3.02978337e-001, 5.24947941e-001],\n  [5.08965313e-001, 8.74029240e-004, 4.46266055e-001 ... 3.03490698e-001, 2.69219160e-001, 6.24374032e-001]]])"
     },
     "execution_count": 11,
     "metadata": {},
     "output_type": "execute_result"
    }
   ],
   "source": [
    "qfl_out"
   ],
   "metadata": {
    "collapsed": false,
    "pycharm": {
     "name": "#%%\n"
    }
   }
  },
  {
   "cell_type": "code",
   "execution_count": null,
   "outputs": [],
   "source": [],
   "metadata": {
    "collapsed": false,
    "pycharm": {
     "name": "#%%\n"
    }
   }
  }
 ],
 "metadata": {
  "kernelspec": {
   "display_name": "Python 3",
   "language": "python",
   "name": "python3"
  },
  "language_info": {
   "codemirror_mode": {
    "name": "ipython",
    "version": 2
   },
   "file_extension": ".py",
   "mimetype": "text/x-python",
   "name": "python",
   "nbconvert_exporter": "python",
   "pygments_lexer": "ipython2",
   "version": "2.7.6"
  }
 },
 "nbformat": 4,
 "nbformat_minor": 0
}