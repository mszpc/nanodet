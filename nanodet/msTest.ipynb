{
 "cells": [
  {
   "cell_type": "code",
   "execution_count": 39,
   "outputs": [],
   "source": [
    "import mindspore as ms\n",
    "from mindspore import Tensor\n",
    "import numpy as np\n",
    "import mindspore.ops.operations as P\n",
    "import mindspore.nn as nn\n",
    "from mindspore.ops import operations as P\n",
    "from mindspore.ops import functional as F\n",
    "from mindspore.ops import composite as C"
   ],
   "metadata": {
    "collapsed": false,
    "pycharm": {
     "name": "#%%\n"
    }
   }
  },
  {
   "cell_type": "code",
   "execution_count": 21,
   "outputs": [],
   "source": [
    "labels = Tensor(np.random.rand(16,2100), ms.float32)\n",
    "bbox_preds = Tensor(np.random.rand(16,2100,32), ms.float32)\n",
    "less = P.Less()"
   ],
   "metadata": {
    "collapsed": false,
    "pycharm": {
     "name": "#%%\n"
    }
   }
  },
  {
   "cell_type": "code",
   "execution_count": 37,
   "outputs": [
    {
     "data": {
      "text/plain": "Tensor(shape=[16, 2100], dtype=Bool, value=\n[[ True,  True, False ... False,  True,  True],\n [False, False,  True ... False, False, False],\n [ True,  True, False ...  True, False, False],\n ...\n [False,  True,  True ...  True, False, False],\n [ True,  True, False ...  True,  True,  True],\n [ True,  True,  True ... False, False,  True]])"
     },
     "execution_count": 37,
     "metadata": {},
     "output_type": "execute_result"
    }
   ],
   "source": [
    "mask = less(0.5,labels)\n",
    "mask"
   ],
   "metadata": {
    "collapsed": false,
    "pycharm": {
     "name": "#%%\n"
    }
   }
  },
  {
   "cell_type": "code",
   "execution_count": 30,
   "outputs": [],
   "source": [
    "class GIouLossII(nn.Cell):\n",
    "    def __init__(self, eps=1e-6, reduction='mena', loss_weight=2.0):\n",
    "        super(GIouLossII, self).__init__()\n",
    "        self.reduction = reduction\n",
    "        self.loss_weight = loss_weight\n",
    "        self.maximum = P.Maximum()\n",
    "        self.minimum = P.Minimum()\n",
    "        self.eps = Tensor(eps, ms.float32)\n",
    "        self.value_zero = Tensor(0, ms.float32)\n",
    "\n",
    "    def construct(self, boxes1, boxes2):\n",
    "        boxes1Area = (boxes1[..., 2] - boxes1[..., 0]) * (boxes1[..., 3] - boxes1[..., 1])\n",
    "        boxes2Area = (boxes2[..., 2] - boxes2[..., 0]) * (boxes2[..., 3] - boxes2[..., 1])\n",
    "        left_up = self.maximum(boxes1[..., :2], boxes2[..., :2])\n",
    "        right_down = self.minimum(boxes1[..., 2:], boxes2[..., 2:])\n",
    "        inter_section = self.maximum(right_down - left_up, self.value_zero)\n",
    "        inter_area = inter_section[..., 0] * inter_section[..., 1]\n",
    "        union_area = boxes1Area + boxes2Area - inter_area\n",
    "        ious = self.maximum(1.0 * inter_area / union_area, self.eps)\n",
    "        enclose_left_up = self.minimum(boxes1[..., :2], boxes2[..., :2])\n",
    "        enclose_right_down = self.maximum(boxes1[..., 2:], boxes2[..., 2:])\n",
    "        enclose = self.maximum(enclose_right_down - enclose_left_up, self.value_zero)\n",
    "        enclose_area = enclose[..., 0] * enclose[..., 1]\n",
    "        gious_loss = ious - 1.0 * (enclose_area - union_area) / enclose_area\n",
    "        gious_loss = 1 - gious_loss\n",
    "        gious_loss = self.loss_weight * gious_loss\n",
    "        return gious_loss\n",
    "\n",
    "class Giou(nn.Cell):\n",
    "    \"\"\"Calculating giou\"\"\"\n",
    "    def __init__(self):\n",
    "        super(Giou, self).__init__()\n",
    "        self.cast = P.Cast()\n",
    "        self.reshape = P.Reshape()\n",
    "        self.min = P.Minimum()\n",
    "        self.max = P.Maximum()\n",
    "        self.concat = P.Concat(axis=1)\n",
    "        self.mean = P.ReduceMean()\n",
    "        self.div = P.RealDiv()\n",
    "        self.eps = 0.000001\n",
    "\n",
    "    def construct(self, box_p, box_gt):\n",
    "        \"\"\"construct method\"\"\"\n",
    "        box_p_area = (box_p[..., 2:3] - box_p[..., 0:1]) * (box_p[..., 3:4] - box_p[..., 1:2])\n",
    "        box_gt_area = (box_gt[..., 2:3] - box_gt[..., 0:1]) * (box_gt[..., 3:4] - box_gt[..., 1:2])\n",
    "        x_1 = self.max(box_p[..., 0:1], box_gt[..., 0:1])\n",
    "        x_2 = self.min(box_p[..., 2:3], box_gt[..., 2:3])\n",
    "        y_1 = self.max(box_p[..., 1:2], box_gt[..., 1:2])\n",
    "        y_2 = self.min(box_p[..., 3:4], box_gt[..., 3:4])\n",
    "        intersection = (y_2 - y_1) * (x_2 - x_1)\n",
    "        xc_1 = self.min(box_p[..., 0:1], box_gt[..., 0:1])\n",
    "        xc_2 = self.max(box_p[..., 2:3], box_gt[..., 2:3])\n",
    "        yc_1 = self.min(box_p[..., 1:2], box_gt[..., 1:2])\n",
    "        yc_2 = self.max(box_p[..., 3:4], box_gt[..., 3:4])\n",
    "        c_area = (xc_2 - xc_1) * (yc_2 - yc_1)\n",
    "        union = box_p_area + box_gt_area - intersection\n",
    "        union = union + self.eps\n",
    "        c_area = c_area + self.eps\n",
    "        iou = self.div(self.cast(intersection, ms.float32), self.cast(union, ms.float32))\n",
    "        res_mid0 = c_area - union\n",
    "        res_mid1 = self.div(self.cast(res_mid0, ms.float32), self.cast(c_area, ms.float32))\n",
    "        giou = iou - res_mid1\n",
    "        giou = 1 - giou\n",
    "        # giou = C.clip_by_value(giou, -1.0, 1.0)\n",
    "        return giou"
   ],
   "metadata": {
    "collapsed": false,
    "pycharm": {
     "name": "#%%\n"
    }
   }
  },
  {
   "cell_type": "code",
   "execution_count": 38,
   "outputs": [
    {
     "data": {
      "text/plain": "Tensor(shape=[16, 2100], dtype=Float32, value=\n[[3.65924382e+000, -9.53432941e+000, -0.00000000e+000 ... 0.00000000e+000, 9.19221461e-001, 8.82639885e+000],\n [-0.00000000e+000, 0.00000000e+000, 3.36038160e+000 ... -0.00000000e+000, -0.00000000e+000, 0.00000000e+000],\n [3.42953753e+000, 1.20811439e+000, 0.00000000e+000 ... 4.08004665e+000, 0.00000000e+000, 0.00000000e+000],\n ...\n [-0.00000000e+000, -8.08080435e-002, 5.06755590e+000 ... -1.05221844e+001, 0.00000000e+000, 0.00000000e+000],\n [7.38240147e+000, 3.61924696e+000, -0.00000000e+000 ... -8.82824659e-002, -1.51215317e+002, 1.19135571e+000],\n [-9.86533833e+000, 1.11915207e+000, -6.76851463e+000 ... 0.00000000e+000, -0.00000000e+000, 9.82322991e-001]])"
     },
     "execution_count": 38,
     "metadata": {},
     "output_type": "execute_result"
    }
   ],
   "source": [
    "boxes1 = Tensor(np.random.rand(16,2100,4), ms.float32)\n",
    "boxes2 = Tensor(np.random.rand(16,2100,4), ms.float32)\n",
    "giou = GIouLossII()\n",
    "yolo_giou = Giou()\n",
    "yolo_giou(boxes1,boxes2)\n",
    "yolo_giou(boxes1,boxes2).squeeze() * mask"
   ],
   "metadata": {
    "collapsed": false,
    "pycharm": {
     "name": "#%%\n"
    }
   }
  },
  {
   "cell_type": "code",
   "execution_count": 35,
   "outputs": [
    {
     "data": {
      "text/plain": "Tensor(shape=[16, 2100, 1], dtype=Float32, value=\n[[[2.93751550e+000],\n  [3.52184105e+000],\n  [1.92462788e+001],\n  ...\n  [-7.85906911e-001],\n  [2.59374952e+000],\n  [1.24731374e+000]],\n [[-1.74807644e+000],\n  [-6.83522320e+000],\n  [-1.02864227e+001],\n  ...\n  [-1.02001882e+000],\n  [1.02090168e+000],\n  [-5.15212917e+000]],\n [[1.97709262e+000],\n  [3.27673292e+000],\n  [-2.48940349e-001],\n  ...\n  [-1.96171165e+000],\n  [7.14198875e+000],\n  [-1.01483954e+003]],\n ...\n [[1.76815808e-001],\n  [-1.25984812e+001],\n  [3.48497510e+000],\n  ...\n  [1.01597691e+000],\n  [-1.59598303e+000],\n  [3.17451334e+000]],\n [[-2.98324188e+002],\n  [6.97393179e-001],\n  [3.55034232e+000],\n  ...\n  [3.94666195e-003],\n  [-1.06493080e+002],\n  [1.89908638e+001]],\n [[1.02244937e+000],\n  [4.35289621e+000],\n  [2.55364990e+000],\n  ...\n  [-1.65686727e-001],\n  [2.04250193e+000],\n  [8.38040888e-001]]])"
     },
     "execution_count": 35,
     "metadata": {},
     "output_type": "execute_result"
    }
   ],
   "source": [
    "yolo_giou(boxes1,boxes2)"
   ],
   "metadata": {
    "collapsed": false,
    "pycharm": {
     "name": "#%%\n"
    }
   }
  },
  {
   "cell_type": "code",
   "execution_count": 105,
   "outputs": [],
   "source": [
    "class QualityFocalLoss(nn.Cell):\n",
    "    def __init__(self, beta=2.0):\n",
    "        super(QualityFocalLoss, self).__init__()\n",
    "        self.sigmoid = P.Sigmoid()\n",
    "        self.sigmiod_cross_entropy = P.SigmoidCrossEntropyWithLogits()\n",
    "        self.pow = P.Pow()\n",
    "        self.abs = P.Abs()\n",
    "        self.onehot = P.OneHot()\n",
    "        self.on_value = Tensor(1.0, ms.float32)\n",
    "        self.off_value = Tensor(0.0, ms.float32)\n",
    "        self.tile = P.Tile()\n",
    "        self.expand_dims = P.ExpandDims()\n",
    "        self.beta = beta\n",
    "\n",
    "    def construct(self, logits, label, score):\n",
    "        logits_sigmoid = self.sigmoid(logits)\n",
    "        label = self.onehot(label, F.shape(logits)[-1], self.on_value, self.off_value)\n",
    "        score = self.tile(self.expand_dims(score, -1), (1, 1, F.shape(logits)[-1]))\n",
    "        label = label * score\n",
    "        sigmiod_cross_entropy = self.sigmiod_cross_entropy(logits, label)\n",
    "        modulating_factor = self.pow(self.abs(label - logits_sigmoid), self.beta)\n",
    "        qfl_loss = sigmiod_cross_entropy * modulating_factor\n",
    "        return qfl_loss"
   ],
   "metadata": {
    "collapsed": false,
    "pycharm": {
     "name": "#%%\n"
    }
   }
  },
  {
   "cell_type": "code",
   "execution_count": 106,
   "outputs": [],
   "source": [
    "qfl = QualityFocalLoss()\n",
    "np.random.seed(1)"
   ],
   "metadata": {
    "collapsed": false,
    "pycharm": {
     "name": "#%%\n"
    }
   }
  },
  {
   "cell_type": "code",
   "execution_count": 107,
   "outputs": [],
   "source": [
    "logits = Tensor(np.random.rand(1,4,5), ms.float32)"
   ],
   "metadata": {
    "collapsed": false,
    "pycharm": {
     "name": "#%%\n"
    }
   }
  },
  {
   "cell_type": "code",
   "execution_count": 115,
   "outputs": [
    {
     "data": {
      "text/plain": "Tensor(shape=[1, 6, 80], dtype=Float32, value=\n[[[0.00000000e+000, 0.00000000e+000, 0.00000000e+000 ... 0.00000000e+000, 0.00000000e+000, 0.00000000e+000],\n  [0.00000000e+000, 0.00000000e+000, 0.00000000e+000 ... 0.00000000e+000, 0.00000000e+000, 0.00000000e+000],\n  [0.00000000e+000, 0.00000000e+000, 0.00000000e+000 ... 0.00000000e+000, 0.00000000e+000, 0.00000000e+000],\n  [1.00000000e+000, 0.00000000e+000, 0.00000000e+000 ... 0.00000000e+000, 0.00000000e+000, 0.00000000e+000],\n  [0.00000000e+000, 0.00000000e+000, 1.00000000e+000 ... 0.00000000e+000, 0.00000000e+000, 0.00000000e+000],\n  [0.00000000e+000, 0.00000000e+000, 0.00000000e+000 ... 0.00000000e+000, 0.00000000e+000, 1.00000000e+000]]])"
     },
     "execution_count": 115,
     "metadata": {},
     "output_type": "execute_result"
    }
   ],
   "source": [
    "label = Tensor([[4,-1,-2,0,2,79]], ms.int64)\n",
    "onehot = P.OneHot()\n",
    "onehot(label, 80, Tensor(1.0, ms.float32), Tensor(0.0, ms.float32))"
   ],
   "metadata": {
    "collapsed": false,
    "pycharm": {
     "name": "#%%\n"
    }
   }
  },
  {
   "cell_type": "code",
   "execution_count": 109,
   "outputs": [],
   "source": [
    "score = Tensor(np.random.rand(1,4), ms.float32)"
   ],
   "metadata": {
    "collapsed": false,
    "pycharm": {
     "name": "#%%\n"
    }
   }
  },
  {
   "cell_type": "code",
   "execution_count": 110,
   "outputs": [
    {
     "data": {
      "text/plain": "(1, 4)"
     },
     "execution_count": 110,
     "metadata": {},
     "output_type": "execute_result"
    }
   ],
   "source": [
    "label.shape"
   ],
   "metadata": {
    "collapsed": false,
    "pycharm": {
     "name": "#%%\n"
    }
   }
  },
  {
   "cell_type": "code",
   "execution_count": 111,
   "outputs": [
    {
     "data": {
      "text/plain": "(Tensor(shape=[1, 4, 5], dtype=Float32, value=\n [[[3.35443079e-001, 5.05353451e-001, 1.73320919e-001, 2.82926857e-001, 4.54626903e-002],\n   [1.29021138e-001, 2.36064985e-001, 3.01982492e-001, 3.25709045e-001, 3.98207128e-001],\n   [3.36498946e-001, 4.83358204e-001, 4.15477604e-002, 6.11653805e-001, 1.81606799e-001],\n   [4.74296689e-001, 3.35580468e-001, 4.09142345e-001, 1.65400915e-002, 2.40564123e-001]]]),\n Tensor(shape=[1, 4, 5], dtype=Float32, value=\n [[[0.00000000e+000, 0.00000000e+000, 0.00000000e+000, 0.00000000e+000, 8.00744593e-001],\n   [9.68261600e-001, 0.00000000e+000, 0.00000000e+000, 0.00000000e+000, 0.00000000e+000],\n   [0.00000000e+000, 0.00000000e+000, 3.13424170e-001, 0.00000000e+000, 0.00000000e+000],\n   [0.00000000e+000, 0.00000000e+000, 0.00000000e+000, 6.92322612e-001, 0.00000000e+000]]]))"
     },
     "execution_count": 111,
     "metadata": {},
     "output_type": "execute_result"
    }
   ],
   "source": [
    "qfl(logits, label, score)"
   ],
   "metadata": {
    "collapsed": false,
    "pycharm": {
     "name": "#%%\n"
    }
   }
  },
  {
   "cell_type": "code",
   "execution_count": 141,
   "outputs": [],
   "source": [
    "class DistributionFocalLossII(nn.Cell):\n",
    "    def __init__(self, loss_weight=0.25):\n",
    "        super(DistributionFocalLossII, self).__init__()\n",
    "        self.loss_weight = loss_weight\n",
    "        self.cross_entropy = nn.SoftmaxCrossEntropyWithLogits(sparse=True, reduction='none')\n",
    "        self.cast = P.Cast()\n",
    "        self.reduce_sum = P.ReduceSum()\n",
    "\n",
    "    def construct(self, pred, label):\n",
    "        dis_left = self.cast(label, ms.int32)\n",
    "        dis_right = dis_left + 1\n",
    "        weight_left = self.cast(dis_right, ms.float32) - label\n",
    "        weight_right = label - self.cast(dis_left, ms.float32)\n",
    "        dfl_loss = (\n",
    "                self.cross_entropy(pred, dis_left) * weight_left\n",
    "                + self.cross_entropy(pred, dis_right) * weight_right)\n",
    "        # dfl_loss = dfl_loss * self.loss_weight\n",
    "        return dfl_loss"
   ],
   "metadata": {
    "collapsed": false,
    "pycharm": {
     "name": "#%%\n"
    }
   }
  },
  {
   "cell_type": "markdown",
   "source": [],
   "metadata": {
    "collapsed": false,
    "pycharm": {
     "name": "#%% md\n"
    }
   }
  },
  {
   "cell_type": "code",
   "execution_count": 78,
   "outputs": [],
   "source": [
    "dfl = DistributionFocalLossII()"
   ],
   "metadata": {
    "collapsed": false,
    "pycharm": {
     "name": "#%%\n"
    }
   }
  },
  {
   "cell_type": "code",
   "execution_count": 142,
   "outputs": [],
   "source": [
    "np.random.seed(1)\n",
    "label = Tensor([0,0,0,0], ms.int64)\n",
    "logits = Tensor(np.zeros((4,8)), ms.float32)"
   ],
   "metadata": {
    "collapsed": false,
    "pycharm": {
     "name": "#%%\n"
    }
   }
  },
  {
   "cell_type": "code",
   "execution_count": 143,
   "outputs": [
    {
     "data": {
      "text/plain": "Tensor(shape=[4], dtype=Float32, value= [2.07944155e+000, 2.07944155e+000, 2.07944155e+000, 2.07944155e+000])"
     },
     "execution_count": 143,
     "metadata": {},
     "output_type": "execute_result"
    }
   ],
   "source": [
    "dfl(logits, label)"
   ],
   "metadata": {
    "collapsed": false,
    "pycharm": {
     "name": "#%%\n"
    }
   }
  },
  {
   "cell_type": "code",
   "execution_count": 136,
   "outputs": [
    {
     "ename": "IndexError",
     "evalue": "The tensor index must be int type, but got (mindspore.bool_,).",
     "output_type": "error",
     "traceback": [
      "\u001B[1;31m---------------------------------------------------------------------------\u001B[0m",
      "\u001B[1;31mIndexError\u001B[0m                                Traceback (most recent call last)",
      "\u001B[1;32m~\\AppData\\Local\\Temp\\ipykernel_1740\\292917754.py\u001B[0m in \u001B[0;36m<module>\u001B[1;34m\u001B[0m\n\u001B[0;32m      1\u001B[0m \u001B[0mind\u001B[0m \u001B[1;33m=\u001B[0m \u001B[0mTensor\u001B[0m\u001B[1;33m(\u001B[0m\u001B[1;33m[\u001B[0m\u001B[1;32mTrue\u001B[0m\u001B[1;33m,\u001B[0m \u001B[1;32mFalse\u001B[0m\u001B[1;33m,\u001B[0m \u001B[1;32mFalse\u001B[0m\u001B[1;33m,\u001B[0m \u001B[1;32mTrue\u001B[0m\u001B[1;33m]\u001B[0m\u001B[1;33m)\u001B[0m\u001B[1;33m\u001B[0m\u001B[1;33m\u001B[0m\u001B[0m\n\u001B[1;32m----> 2\u001B[1;33m \u001B[0mlabel\u001B[0m\u001B[1;33m[\u001B[0m\u001B[0mind\u001B[0m\u001B[1;33m]\u001B[0m\u001B[1;33m\u001B[0m\u001B[1;33m\u001B[0m\u001B[0m\n\u001B[0m",
      "\u001B[1;32mD:\\Anaconda3\\envs\\mindspore\\lib\\site-packages\\mindspore\\common\\tensor.py\u001B[0m in \u001B[0;36m__getitem__\u001B[1;34m(self, index)\u001B[0m\n\u001B[0;32m    320\u001B[0m \u001B[1;33m\u001B[0m\u001B[0m\n\u001B[0;32m    321\u001B[0m     \u001B[1;32mdef\u001B[0m \u001B[0m__getitem__\u001B[0m\u001B[1;33m(\u001B[0m\u001B[0mself\u001B[0m\u001B[1;33m,\u001B[0m \u001B[0mindex\u001B[0m\u001B[1;33m)\u001B[0m\u001B[1;33m:\u001B[0m\u001B[1;33m\u001B[0m\u001B[1;33m\u001B[0m\u001B[0m\n\u001B[1;32m--> 322\u001B[1;33m         \u001B[0mout\u001B[0m \u001B[1;33m=\u001B[0m \u001B[0mtensor_operator_registry\u001B[0m\u001B[1;33m.\u001B[0m\u001B[0mget\u001B[0m\u001B[1;33m(\u001B[0m\u001B[1;34m'__getitem__'\u001B[0m\u001B[1;33m)\u001B[0m\u001B[1;33m(\u001B[0m\u001B[0mself\u001B[0m\u001B[1;33m,\u001B[0m \u001B[0mindex\u001B[0m\u001B[1;33m)\u001B[0m\u001B[1;33m\u001B[0m\u001B[1;33m\u001B[0m\u001B[0m\n\u001B[0m\u001B[0;32m    323\u001B[0m         \u001B[1;32mif\u001B[0m \u001B[0mout\u001B[0m \u001B[1;32mis\u001B[0m \u001B[1;32mnot\u001B[0m \u001B[0mself\u001B[0m\u001B[1;33m:\u001B[0m\u001B[1;33m\u001B[0m\u001B[1;33m\u001B[0m\u001B[0m\n\u001B[0;32m    324\u001B[0m             \u001B[0mout\u001B[0m\u001B[1;33m.\u001B[0m\u001B[0mparent_tensor_\u001B[0m \u001B[1;33m=\u001B[0m \u001B[0mself\u001B[0m\u001B[1;33m\u001B[0m\u001B[1;33m\u001B[0m\u001B[0m\n",
      "\u001B[1;32mD:\\Anaconda3\\envs\\mindspore\\lib\\site-packages\\mindspore\\ops\\composite\\multitype_ops\\_compile_utils.py\u001B[0m in \u001B[0;36m_tensor_getitem\u001B[1;34m(self, index)\u001B[0m\n\u001B[0;32m     33\u001B[0m     \u001B[1;34m\"\"\"Handle tensor getitem\"\"\"\u001B[0m\u001B[1;33m\u001B[0m\u001B[1;33m\u001B[0m\u001B[0m\n\u001B[0;32m     34\u001B[0m     \u001B[1;32mif\u001B[0m \u001B[0misinstance\u001B[0m\u001B[1;33m(\u001B[0m\u001B[0mindex\u001B[0m\u001B[1;33m,\u001B[0m \u001B[0mTensor\u001B[0m\u001B[1;33m)\u001B[0m\u001B[1;33m:\u001B[0m\u001B[1;33m\u001B[0m\u001B[1;33m\u001B[0m\u001B[0m\n\u001B[1;32m---> 35\u001B[1;33m         \u001B[1;32mreturn\u001B[0m \u001B[0mtensor_index_by_tensor\u001B[0m\u001B[1;33m(\u001B[0m\u001B[0mself\u001B[0m\u001B[1;33m,\u001B[0m \u001B[0mindex\u001B[0m\u001B[1;33m)\u001B[0m\u001B[1;33m\u001B[0m\u001B[1;33m\u001B[0m\u001B[0m\n\u001B[0m\u001B[0;32m     36\u001B[0m     \u001B[1;32mif\u001B[0m \u001B[0misinstance\u001B[0m\u001B[1;33m(\u001B[0m\u001B[0mindex\u001B[0m\u001B[1;33m,\u001B[0m \u001B[0mlist\u001B[0m\u001B[1;33m)\u001B[0m\u001B[1;33m:\u001B[0m\u001B[1;33m\u001B[0m\u001B[1;33m\u001B[0m\u001B[0m\n\u001B[0;32m     37\u001B[0m         \u001B[1;32mreturn\u001B[0m \u001B[0mtensor_index_by_list\u001B[0m\u001B[1;33m(\u001B[0m\u001B[0mself\u001B[0m\u001B[1;33m,\u001B[0m \u001B[0mindex\u001B[0m\u001B[1;33m)\u001B[0m\u001B[1;33m\u001B[0m\u001B[1;33m\u001B[0m\u001B[0m\n",
      "\u001B[1;32mD:\\Anaconda3\\envs\\mindspore\\lib\\site-packages\\mindspore\\ops\\composite\\multitype_ops\\_compile_utils.py\u001B[0m in \u001B[0;36mtensor_index_by_tensor\u001B[1;34m(data, tensor_index)\u001B[0m\n\u001B[0;32m    375\u001B[0m         exp_msg = const_utils.gen_exception_msg(\n\u001B[0;32m    376\u001B[0m             \"The tensor index must be int type, but got {}.\", F.dtype(tensor_index))\n\u001B[1;32m--> 377\u001B[1;33m         \u001B[0mconst_utils\u001B[0m\u001B[1;33m.\u001B[0m\u001B[0mraise_index_error\u001B[0m\u001B[1;33m(\u001B[0m\u001B[0mexp_msg\u001B[0m\u001B[1;33m)\u001B[0m\u001B[1;33m\u001B[0m\u001B[1;33m\u001B[0m\u001B[0m\n\u001B[0m\u001B[0;32m    378\u001B[0m     \u001B[1;32mreturn\u001B[0m \u001B[0mF\u001B[0m\u001B[1;33m.\u001B[0m\u001B[0mgather\u001B[0m\u001B[1;33m(\u001B[0m\u001B[0mdata\u001B[0m\u001B[1;33m,\u001B[0m \u001B[0mtensor_index\u001B[0m\u001B[1;33m,\u001B[0m \u001B[1;36m0\u001B[0m\u001B[1;33m)\u001B[0m\u001B[1;33m\u001B[0m\u001B[1;33m\u001B[0m\u001B[0m\n\u001B[0;32m    379\u001B[0m \u001B[1;33m\u001B[0m\u001B[0m\n",
      "\u001B[1;32mD:\\Anaconda3\\envs\\mindspore\\lib\\site-packages\\mindspore\\ops\\primitive.py\u001B[0m in \u001B[0;36m__call__\u001B[1;34m(self, *args, **kwargs)\u001B[0m\n\u001B[0;32m    738\u001B[0m \u001B[1;33m\u001B[0m\u001B[0m\n\u001B[0;32m    739\u001B[0m             \u001B[1;32mdef\u001B[0m \u001B[0m__call__\u001B[0m\u001B[1;33m(\u001B[0m\u001B[0mself\u001B[0m\u001B[1;33m,\u001B[0m \u001B[1;33m*\u001B[0m\u001B[0margs\u001B[0m\u001B[1;33m,\u001B[0m \u001B[1;33m**\u001B[0m\u001B[0mkwargs\u001B[0m\u001B[1;33m)\u001B[0m\u001B[1;33m:\u001B[0m\u001B[1;33m\u001B[0m\u001B[1;33m\u001B[0m\u001B[0m\n\u001B[1;32m--> 740\u001B[1;33m                 \u001B[1;32mreturn\u001B[0m \u001B[0mfn\u001B[0m\u001B[1;33m(\u001B[0m\u001B[1;33m*\u001B[0m\u001B[0margs\u001B[0m\u001B[1;33m)\u001B[0m\u001B[1;33m\u001B[0m\u001B[1;33m\u001B[0m\u001B[0m\n\u001B[0m\u001B[0;32m    741\u001B[0m \u001B[1;33m\u001B[0m\u001B[0m\n\u001B[0;32m    742\u001B[0m         \u001B[1;32mif\u001B[0m \u001B[0mget_instance\u001B[0m\u001B[1;33m:\u001B[0m\u001B[1;33m\u001B[0m\u001B[1;33m\u001B[0m\u001B[0m\n",
      "\u001B[1;32mD:\\Anaconda3\\envs\\mindspore\\lib\\site-packages\\mindspore\\ops\\composite\\multitype_ops\\_constexpr_utils.py\u001B[0m in \u001B[0;36mraise_index_error\u001B[1;34m(msg)\u001B[0m\n\u001B[0;32m     58\u001B[0m \u001B[1;32mdef\u001B[0m \u001B[0mraise_index_error\u001B[0m\u001B[1;33m(\u001B[0m\u001B[0mmsg\u001B[0m\u001B[1;33m)\u001B[0m\u001B[1;33m:\u001B[0m\u001B[1;33m\u001B[0m\u001B[1;33m\u001B[0m\u001B[0m\n\u001B[0;32m     59\u001B[0m     \u001B[1;34m\"\"\"Constexpr for raise_index_error.\"\"\"\u001B[0m\u001B[1;33m\u001B[0m\u001B[1;33m\u001B[0m\u001B[0m\n\u001B[1;32m---> 60\u001B[1;33m     \u001B[1;32mraise\u001B[0m \u001B[0mIndexError\u001B[0m\u001B[1;33m(\u001B[0m\u001B[0mmsg\u001B[0m\u001B[1;33m)\u001B[0m\u001B[1;33m\u001B[0m\u001B[1;33m\u001B[0m\u001B[0m\n\u001B[0m\u001B[0;32m     61\u001B[0m \u001B[1;33m\u001B[0m\u001B[0m\n\u001B[0;32m     62\u001B[0m \u001B[1;33m\u001B[0m\u001B[0m\n",
      "\u001B[1;31mIndexError\u001B[0m: The tensor index must be int type, but got (mindspore.bool_,)."
     ]
    }
   ],
   "source": [
    "ind = Tensor([True, False, False, True])\n",
    "label[ind]"
   ],
   "metadata": {
    "collapsed": false,
    "pycharm": {
     "name": "#%%\n"
    }
   }
  },
  {
   "cell_type": "code",
   "execution_count": 126,
   "outputs": [],
   "source": [
    "\n",
    "class Iou(nn.Cell):\n",
    "    def __init__(self):\n",
    "        super(Iou, self).__init__()\n",
    "        self.cast = P.Cast()\n",
    "        self.min = P.Minimum()\n",
    "        self.max = P.Maximum()\n",
    "        self.div = P.RealDiv()\n",
    "        self.eps = 0.000001\n",
    "\n",
    "    def construct(self, box_p, box_gt):\n",
    "        \"\"\"construct method\"\"\"\n",
    "        box_p_area = (box_p[..., 2:3] - box_p[..., 0:1]) * (box_p[..., 3:4] - box_p[..., 1:2])\n",
    "        box_gt_area = (box_gt[..., 2:3] - box_gt[..., 0:1]) * (box_gt[..., 3:4] - box_gt[..., 1:2])\n",
    "        x_1 = self.max(box_p[..., 0:1], box_gt[..., 0:1])\n",
    "        x_2 = self.min(box_p[..., 2:3], box_gt[..., 2:3])\n",
    "        y_1 = self.max(box_p[..., 1:2], box_gt[..., 1:2])\n",
    "        y_2 = self.min(box_p[..., 3:4], box_gt[..., 3:4])\n",
    "        intersection = (y_2 - y_1) * (x_2 - x_1)\n",
    "        xc_1 = self.min(box_p[..., 0:1], box_gt[..., 0:1])\n",
    "        xc_2 = self.max(box_p[..., 2:3], box_gt[..., 2:3])\n",
    "        yc_1 = self.min(box_p[..., 1:2], box_gt[..., 1:2])\n",
    "        yc_2 = self.max(box_p[..., 3:4], box_gt[..., 3:4])\n",
    "        union = box_p_area + box_gt_area - intersection\n",
    "        union = union + self.eps\n",
    "        iou = self.div(self.cast(intersection, ms.float32), self.cast(union, ms.float32)).squeeze(-1)\n",
    "        return iou"
   ],
   "metadata": {
    "collapsed": false,
    "pycharm": {
     "name": "#%%\n"
    }
   }
  },
  {
   "cell_type": "code",
   "execution_count": 127,
   "outputs": [],
   "source": [
    "iou = Iou()"
   ],
   "metadata": {
    "collapsed": false,
    "pycharm": {
     "name": "#%%\n"
    }
   }
  },
  {
   "cell_type": "code",
   "execution_count": 128,
   "outputs": [
    {
     "data": {
      "text/plain": "Tensor(shape=[16, 2100], dtype=Float32, value=\n[[-9.91776586e-001, -7.69083023e-001, -1.64417827e+000 ... -8.33307385e-001, 8.07785541e-002, -4.82948631e-001],\n [-6.76408112e-001, -2.54682392e-001, -2.50901639e-001 ... -7.33016777e+000, -2.20871949e+000, -8.82815063e-001],\n [-3.23499262e-001, -3.02022398e-001, -8.54857683e-001 ... -5.39389253e-001, -7.29965746e-001, -9.65086579e-001],\n ...\n [9.23408926e-001, 1.08080816e+000, -2.94611263e+000 ... -1.85042799e+000, -2.92762220e-001, 5.04058935e-002],\n [-2.63358325e-001, -2.10003972e+000, 6.91856563e-001 ... 8.74416530e-001, 1.52215317e+002, -1.91355720e-001],\n [1.07933104e-001, -1.19152114e-001, -1.76416874e-001 ... -2.24564597e-001, 3.88602400e+000, 1.76770352e-002]])"
     },
     "execution_count": 128,
     "metadata": {},
     "output_type": "execute_result"
    }
   ],
   "source": [
    "iou(boxes1,boxes2)"
   ],
   "metadata": {
    "collapsed": false,
    "pycharm": {
     "name": "#%%\n"
    }
   }
  },
  {
   "cell_type": "code",
   "execution_count": 139,
   "outputs": [],
   "source": [
    "import mindspore.numpy as mnp"
   ],
   "metadata": {
    "collapsed": false,
    "pycharm": {
     "name": "#%%\n"
    }
   }
  },
  {
   "cell_type": "code",
   "execution_count": 140,
   "outputs": [
    {
     "ename": "TypeError",
     "evalue": "Expect input to be array like.",
     "output_type": "error",
     "traceback": [
      "\u001B[1;31m---------------------------------------------------------------------------\u001B[0m",
      "\u001B[1;31mTypeError\u001B[0m                                 Traceback (most recent call last)",
      "\u001B[1;32m~\\AppData\\Local\\Temp\\ipykernel_1740\\3356253850.py\u001B[0m in \u001B[0;36m<module>\u001B[1;34m\u001B[0m\n\u001B[1;32m----> 1\u001B[1;33m \u001B[0mmnp\u001B[0m\u001B[1;33m.\u001B[0m\u001B[0mwhere\u001B[0m\u001B[1;33m(\u001B[0m\u001B[0mind\u001B[0m\u001B[1;33m,\u001B[0m\u001B[0mlabel\u001B[0m\u001B[1;33m)\u001B[0m\u001B[1;33m\u001B[0m\u001B[1;33m\u001B[0m\u001B[0m\n\u001B[0m",
      "\u001B[1;32mD:\\Anaconda3\\envs\\mindspore\\lib\\site-packages\\mindspore\\numpy\\array_ops.py\u001B[0m in \u001B[0;36mwhere\u001B[1;34m(condition, x, y)\u001B[0m\n\u001B[0;32m    698\u001B[0m         [7 5]]]\n\u001B[0;32m    699\u001B[0m     \"\"\"\n\u001B[1;32m--> 700\u001B[1;33m     \u001B[0mcondition\u001B[0m\u001B[1;33m,\u001B[0m \u001B[0mx\u001B[0m\u001B[1;33m,\u001B[0m \u001B[0my\u001B[0m \u001B[1;33m=\u001B[0m \u001B[0m_to_tensor\u001B[0m\u001B[1;33m(\u001B[0m\u001B[0mcondition\u001B[0m\u001B[1;33m,\u001B[0m \u001B[0mx\u001B[0m\u001B[1;33m,\u001B[0m \u001B[0my\u001B[0m\u001B[1;33m)\u001B[0m\u001B[1;33m\u001B[0m\u001B[1;33m\u001B[0m\u001B[0m\n\u001B[0m\u001B[0;32m    701\u001B[0m     \u001B[1;31m# type promotes input tensors\u001B[0m\u001B[1;33m\u001B[0m\u001B[1;33m\u001B[0m\u001B[1;33m\u001B[0m\u001B[0m\n\u001B[0;32m    702\u001B[0m     \u001B[0mdtype1\u001B[0m \u001B[1;33m=\u001B[0m \u001B[0mF\u001B[0m\u001B[1;33m.\u001B[0m\u001B[0mdtype\u001B[0m\u001B[1;33m(\u001B[0m\u001B[0mx\u001B[0m\u001B[1;33m)\u001B[0m\u001B[1;33m\u001B[0m\u001B[1;33m\u001B[0m\u001B[0m\n",
      "\u001B[1;32mD:\\Anaconda3\\envs\\mindspore\\lib\\site-packages\\mindspore\\numpy\\utils.py\u001B[0m in \u001B[0;36m_to_tensor\u001B[1;34m(*args)\u001B[0m\n\u001B[0;32m    128\u001B[0m             \u001B[0marg\u001B[0m \u001B[1;33m=\u001B[0m \u001B[0m_convert_64_to_32\u001B[0m\u001B[1;33m(\u001B[0m\u001B[0m_type_convert\u001B[0m\u001B[1;33m(\u001B[0m\u001B[0mTensor\u001B[0m\u001B[1;33m,\u001B[0m \u001B[0marg\u001B[0m\u001B[1;33m)\u001B[0m\u001B[1;33m)\u001B[0m\u001B[1;33m\u001B[0m\u001B[1;33m\u001B[0m\u001B[0m\n\u001B[0;32m    129\u001B[0m         \u001B[1;32melif\u001B[0m \u001B[1;32mnot\u001B[0m \u001B[0misinstance\u001B[0m\u001B[1;33m(\u001B[0m\u001B[0marg\u001B[0m\u001B[1;33m,\u001B[0m \u001B[0mTensor\u001B[0m\u001B[1;33m)\u001B[0m\u001B[1;33m:\u001B[0m\u001B[1;33m\u001B[0m\u001B[1;33m\u001B[0m\u001B[0m\n\u001B[1;32m--> 130\u001B[1;33m             \u001B[0m_raise_type_error\u001B[0m\u001B[1;33m(\u001B[0m\u001B[1;34m\"Expect input to be array like.\"\u001B[0m\u001B[1;33m)\u001B[0m\u001B[1;33m\u001B[0m\u001B[1;33m\u001B[0m\u001B[0m\n\u001B[0m\u001B[0;32m    131\u001B[0m         \u001B[0mres\u001B[0m \u001B[1;33m+=\u001B[0m \u001B[1;33m(\u001B[0m\u001B[0marg\u001B[0m\u001B[1;33m,\u001B[0m\u001B[1;33m)\u001B[0m\u001B[1;33m\u001B[0m\u001B[1;33m\u001B[0m\u001B[0m\n\u001B[0;32m    132\u001B[0m     \u001B[1;32mif\u001B[0m \u001B[0mlen\u001B[0m\u001B[1;33m(\u001B[0m\u001B[0mres\u001B[0m\u001B[1;33m)\u001B[0m \u001B[1;33m==\u001B[0m \u001B[1;36m1\u001B[0m\u001B[1;33m:\u001B[0m\u001B[1;33m\u001B[0m\u001B[1;33m\u001B[0m\u001B[0m\n",
      "\u001B[1;32mD:\\Anaconda3\\envs\\mindspore\\lib\\site-packages\\mindspore\\ops\\primitive.py\u001B[0m in \u001B[0;36m__call__\u001B[1;34m(self, *args, **kwargs)\u001B[0m\n\u001B[0;32m    738\u001B[0m \u001B[1;33m\u001B[0m\u001B[0m\n\u001B[0;32m    739\u001B[0m             \u001B[1;32mdef\u001B[0m \u001B[0m__call__\u001B[0m\u001B[1;33m(\u001B[0m\u001B[0mself\u001B[0m\u001B[1;33m,\u001B[0m \u001B[1;33m*\u001B[0m\u001B[0margs\u001B[0m\u001B[1;33m,\u001B[0m \u001B[1;33m**\u001B[0m\u001B[0mkwargs\u001B[0m\u001B[1;33m)\u001B[0m\u001B[1;33m:\u001B[0m\u001B[1;33m\u001B[0m\u001B[1;33m\u001B[0m\u001B[0m\n\u001B[1;32m--> 740\u001B[1;33m                 \u001B[1;32mreturn\u001B[0m \u001B[0mfn\u001B[0m\u001B[1;33m(\u001B[0m\u001B[1;33m*\u001B[0m\u001B[0margs\u001B[0m\u001B[1;33m)\u001B[0m\u001B[1;33m\u001B[0m\u001B[1;33m\u001B[0m\u001B[0m\n\u001B[0m\u001B[0;32m    741\u001B[0m \u001B[1;33m\u001B[0m\u001B[0m\n\u001B[0;32m    742\u001B[0m         \u001B[1;32mif\u001B[0m \u001B[0mget_instance\u001B[0m\u001B[1;33m:\u001B[0m\u001B[1;33m\u001B[0m\u001B[1;33m\u001B[0m\u001B[0m\n",
      "\u001B[1;32mD:\\Anaconda3\\envs\\mindspore\\lib\\site-packages\\mindspore\\numpy\\utils_const.py\u001B[0m in \u001B[0;36m_raise_type_error\u001B[1;34m(info, param)\u001B[0m\n\u001B[0;32m    202\u001B[0m     \"\"\"\n\u001B[0;32m    203\u001B[0m     \u001B[1;32mif\u001B[0m \u001B[0mparam\u001B[0m \u001B[1;32mis\u001B[0m \u001B[1;32mNone\u001B[0m\u001B[1;33m:\u001B[0m\u001B[1;33m\u001B[0m\u001B[1;33m\u001B[0m\u001B[0m\n\u001B[1;32m--> 204\u001B[1;33m         \u001B[1;32mraise\u001B[0m \u001B[0mTypeError\u001B[0m\u001B[1;33m(\u001B[0m\u001B[0minfo\u001B[0m\u001B[1;33m)\u001B[0m\u001B[1;33m\u001B[0m\u001B[1;33m\u001B[0m\u001B[0m\n\u001B[0m\u001B[0;32m    205\u001B[0m     \u001B[1;32mraise\u001B[0m \u001B[0mTypeError\u001B[0m\u001B[1;33m(\u001B[0m\u001B[0minfo\u001B[0m \u001B[1;33m+\u001B[0m \u001B[1;34mf\"{type(param)}\"\u001B[0m\u001B[1;33m)\u001B[0m\u001B[1;33m\u001B[0m\u001B[1;33m\u001B[0m\u001B[0m\n\u001B[0;32m    206\u001B[0m \u001B[1;33m\u001B[0m\u001B[0m\n",
      "\u001B[1;31mTypeError\u001B[0m: Expect input to be array like."
     ]
    }
   ],
   "source": [
    "mnp.where(ind,label)"
   ],
   "metadata": {
    "collapsed": false,
    "pycharm": {
     "name": "#%%\n"
    }
   }
  },
  {
   "cell_type": "code",
   "execution_count": 157,
   "outputs": [
    {
     "data": {
      "text/plain": "Tensor(shape=[10, 2], dtype=Int32, value=\n[[ 0,  0],\n [ 0,  0],\n [ 0,  0],\n ...\n [15, 16],\n [17, 18],\n [19, 20]])"
     },
     "execution_count": 157,
     "metadata": {},
     "output_type": "execute_result"
    }
   ],
   "source": [
    "test = Tensor([[0,0,0,0,0,0,0,0,0,0], [11,12,13,14,15,16,17,18,19,20]])\n",
    "ind = P.Tile()(Tensor([[False], [True]]),(1,5))\n",
    "test.reshape((-1, 2))"
   ],
   "metadata": {
    "collapsed": false,
    "pycharm": {
     "name": "#%%\n"
    }
   }
  },
  {
   "cell_type": "code",
   "execution_count": 160,
   "outputs": [
    {
     "data": {
      "text/plain": "Tensor(shape=[10], dtype=Bool, value= [False, False, False, False, False,  True,  True,  True,  True,  True])"
     },
     "execution_count": 160,
     "metadata": {},
     "output_type": "execute_result"
    }
   ],
   "source": [
    "ind.reshape(-1)"
   ],
   "metadata": {
    "collapsed": false,
    "pycharm": {
     "name": "#%%\n"
    }
   }
  },
  {
   "cell_type": "code",
   "execution_count": null,
   "outputs": [],
   "source": [
    "\n",
    "def bbox_overlaps(bbox):\n",
    "    ymin = np.maximum(y1, bbox[0])\n",
    "    xmin = np.maximum(x1, bbox[1])\n",
    "    ymax = np.minimum(y2, bbox[2])\n",
    "    xmax = np.minimum(x2, bbox[3])\n",
    "    # 并行化运算\n",
    "    w = np.maximum(xmax - xmin, 0.)\n",
    "    h = np.maximum(ymax - ymin, 0.)\n",
    "\n",
    "    inter_vol = h * w\n",
    "    union_vol = vol_anchors + (bbox[2] - bbox[0]) * (bbox[3] - bbox[1]) - inter_vol\n",
    "    iou = inter_vol / union_vol\n",
    "    return np.squeeze(iou)"
   ],
   "metadata": {
    "collapsed": false,
    "pycharm": {
     "name": "#%%\n"
    }
   }
  },
  {
   "cell_type": "code",
   "execution_count": 13,
   "outputs": [
    {
     "data": {
      "text/plain": "Tensor(shape=[5], dtype=Bool, value= [ True,  True,  True, False,  True])"
     },
     "execution_count": 13,
     "metadata": {},
     "output_type": "execute_result"
    }
   ],
   "source": [
    "from mindspore import Tensor\n",
    "a = Tensor([1,1,1,1,1])\n",
    "b = Tensor([1,1,1,0,1])\n",
    "a == b"
   ],
   "metadata": {
    "collapsed": false,
    "pycharm": {
     "name": "#%%\n"
    }
   }
  },
  {
   "cell_type": "code",
   "execution_count": 14,
   "outputs": [
    {
     "ename": "ValueError",
     "evalue": "Can only convert an array of size 1 to a Python scalar",
     "output_type": "error",
     "traceback": [
      "\u001B[1;31m---------------------------------------------------------------------------\u001B[0m",
      "\u001B[1;31mValueError\u001B[0m                                Traceback (most recent call last)",
      "\u001B[1;32m~\\AppData\\Local\\Temp\\ipykernel_4268\\3069551994.py\u001B[0m in \u001B[0;36m<module>\u001B[1;34m\u001B[0m\n\u001B[1;32m----> 1\u001B[1;33m \u001B[0ma\u001B[0m\u001B[1;33m.\u001B[0m\u001B[0mitem\u001B[0m\u001B[1;33m(\u001B[0m\u001B[1;33m)\u001B[0m\u001B[1;33m\u001B[0m\u001B[1;33m\u001B[0m\u001B[0m\n\u001B[0m",
      "\u001B[1;32mD:\\Anaconda3\\envs\\mindspore\\lib\\site-packages\\mindspore\\common\\tensor.py\u001B[0m in \u001B[0;36mitem\u001B[1;34m(self, index)\u001B[0m\n\u001B[0;32m    459\u001B[0m \u001B[1;33m\u001B[0m\u001B[0m\n\u001B[0;32m    460\u001B[0m         \"\"\"\n\u001B[1;32m--> 461\u001B[1;33m         \u001B[0moutput\u001B[0m \u001B[1;33m=\u001B[0m \u001B[0mtensor_operator_registry\u001B[0m\u001B[1;33m.\u001B[0m\u001B[0mget\u001B[0m\u001B[1;33m(\u001B[0m\u001B[1;34m'item'\u001B[0m\u001B[1;33m)\u001B[0m\u001B[1;33m(\u001B[0m\u001B[0mself\u001B[0m\u001B[1;33m,\u001B[0m \u001B[0mindex\u001B[0m\u001B[1;33m)\u001B[0m\u001B[1;33m\u001B[0m\u001B[1;33m\u001B[0m\u001B[0m\n\u001B[0m\u001B[0;32m    462\u001B[0m         \u001B[1;32mreturn\u001B[0m \u001B[0moutput\u001B[0m\u001B[1;33m\u001B[0m\u001B[1;33m\u001B[0m\u001B[0m\n\u001B[0;32m    463\u001B[0m \u001B[1;33m\u001B[0m\u001B[0m\n",
      "\u001B[1;32mD:\\Anaconda3\\envs\\mindspore\\lib\\site-packages\\mindspore\\ops\\composite\\multitype_ops\\_compile_utils.py\u001B[0m in \u001B[0;36mtensor_item\u001B[1;34m(data, *args)\u001B[0m\n\u001B[0;32m    153\u001B[0m         \u001B[1;32mif\u001B[0m \u001B[0mdata\u001B[0m\u001B[1;33m.\u001B[0m\u001B[0mshape\u001B[0m \u001B[1;33m==\u001B[0m \u001B[1;33m(\u001B[0m\u001B[1;36m1\u001B[0m\u001B[1;33m,\u001B[0m\u001B[1;33m)\u001B[0m\u001B[1;33m:\u001B[0m\u001B[1;33m\u001B[0m\u001B[1;33m\u001B[0m\u001B[0m\n\u001B[0;32m    154\u001B[0m             \u001B[1;32mreturn\u001B[0m \u001B[0mdata\u001B[0m\u001B[1;33m\u001B[0m\u001B[1;33m\u001B[0m\u001B[0m\n\u001B[1;32m--> 155\u001B[1;33m         \u001B[0mconst_utils\u001B[0m\u001B[1;33m.\u001B[0m\u001B[0mraise_value_error\u001B[0m\u001B[1;33m(\u001B[0m\u001B[1;34m\"Can only convert an array of size 1 to a Python scalar\"\u001B[0m\u001B[1;33m)\u001B[0m\u001B[1;33m\u001B[0m\u001B[1;33m\u001B[0m\u001B[0m\n\u001B[0m\u001B[0;32m    156\u001B[0m \u001B[1;33m\u001B[0m\u001B[0m\n\u001B[0;32m    157\u001B[0m     \u001B[1;32mif\u001B[0m \u001B[1;32mnot\u001B[0m \u001B[0mconst_utils\u001B[0m\u001B[1;33m.\u001B[0m\u001B[0mjudge_indexes_types\u001B[0m\u001B[1;33m(\u001B[0m\u001B[0margs_types\u001B[0m\u001B[1;33m,\u001B[0m \u001B[0mmstype\u001B[0m\u001B[1;33m.\u001B[0m\u001B[0mint64\u001B[0m\u001B[1;33m)\u001B[0m\u001B[1;33m:\u001B[0m\u001B[1;33m\u001B[0m\u001B[1;33m\u001B[0m\u001B[0m\n",
      "\u001B[1;32mD:\\Anaconda3\\envs\\mindspore\\lib\\site-packages\\mindspore\\ops\\primitive.py\u001B[0m in \u001B[0;36m__call__\u001B[1;34m(self, *args, **kwargs)\u001B[0m\n\u001B[0;32m    738\u001B[0m \u001B[1;33m\u001B[0m\u001B[0m\n\u001B[0;32m    739\u001B[0m             \u001B[1;32mdef\u001B[0m \u001B[0m__call__\u001B[0m\u001B[1;33m(\u001B[0m\u001B[0mself\u001B[0m\u001B[1;33m,\u001B[0m \u001B[1;33m*\u001B[0m\u001B[0margs\u001B[0m\u001B[1;33m,\u001B[0m \u001B[1;33m**\u001B[0m\u001B[0mkwargs\u001B[0m\u001B[1;33m)\u001B[0m\u001B[1;33m:\u001B[0m\u001B[1;33m\u001B[0m\u001B[1;33m\u001B[0m\u001B[0m\n\u001B[1;32m--> 740\u001B[1;33m                 \u001B[1;32mreturn\u001B[0m \u001B[0mfn\u001B[0m\u001B[1;33m(\u001B[0m\u001B[1;33m*\u001B[0m\u001B[0margs\u001B[0m\u001B[1;33m)\u001B[0m\u001B[1;33m\u001B[0m\u001B[1;33m\u001B[0m\u001B[0m\n\u001B[0m\u001B[0;32m    741\u001B[0m \u001B[1;33m\u001B[0m\u001B[0m\n\u001B[0;32m    742\u001B[0m         \u001B[1;32mif\u001B[0m \u001B[0mget_instance\u001B[0m\u001B[1;33m:\u001B[0m\u001B[1;33m\u001B[0m\u001B[1;33m\u001B[0m\u001B[0m\n",
      "\u001B[1;32mD:\\Anaconda3\\envs\\mindspore\\lib\\site-packages\\mindspore\\ops\\composite\\multitype_ops\\_constexpr_utils.py\u001B[0m in \u001B[0;36mraise_value_error\u001B[1;34m(msg)\u001B[0m\n\u001B[0;32m     52\u001B[0m \u001B[1;32mdef\u001B[0m \u001B[0mraise_value_error\u001B[0m\u001B[1;33m(\u001B[0m\u001B[0mmsg\u001B[0m\u001B[1;33m)\u001B[0m\u001B[1;33m:\u001B[0m\u001B[1;33m\u001B[0m\u001B[1;33m\u001B[0m\u001B[0m\n\u001B[0;32m     53\u001B[0m     \u001B[1;34m\"\"\"Constexpr for raise_value_error.\"\"\"\u001B[0m\u001B[1;33m\u001B[0m\u001B[1;33m\u001B[0m\u001B[0m\n\u001B[1;32m---> 54\u001B[1;33m     \u001B[1;32mraise\u001B[0m \u001B[0mValueError\u001B[0m\u001B[1;33m(\u001B[0m\u001B[0mmsg\u001B[0m\u001B[1;33m)\u001B[0m\u001B[1;33m\u001B[0m\u001B[1;33m\u001B[0m\u001B[0m\n\u001B[0m\u001B[0;32m     55\u001B[0m \u001B[1;33m\u001B[0m\u001B[0m\n\u001B[0;32m     56\u001B[0m \u001B[1;33m\u001B[0m\u001B[0m\n",
      "\u001B[1;31mValueError\u001B[0m: Can only convert an array of size 1 to a Python scalar"
     ]
    }
   ],
   "source": [
    "a.item()"
   ],
   "metadata": {
    "collapsed": false,
    "pycharm": {
     "name": "#%%\n"
    }
   }
  },
  {
   "cell_type": "code",
   "execution_count": 7,
   "outputs": [
    {
     "data": {
      "text/plain": "Tensor(shape=[5], dtype=Bool, value= [ True,  True,  True, False,  True])"
     },
     "execution_count": 7,
     "metadata": {},
     "output_type": "execute_result"
    }
   ],
   "source": [
    "import mindspore.ops as ops\n",
    "\n",
    "ops.equal(a,b)"
   ],
   "metadata": {
    "collapsed": false,
    "pycharm": {
     "name": "#%%\n"
    }
   }
  },
  {
   "cell_type": "code",
   "execution_count": 15,
   "outputs": [
    {
     "data": {
      "text/plain": "Tensor(shape=[5], dtype=Int32, value= [1, 1, 1, 1, 1])"
     },
     "execution_count": 15,
     "metadata": {},
     "output_type": "execute_result"
    }
   ],
   "source": [],
   "metadata": {
    "collapsed": false,
    "pycharm": {
     "name": "#%%\n"
    }
   }
  },
  {
   "cell_type": "code",
   "execution_count": 16,
   "outputs": [],
   "source": [
    "b = Tensor([1])"
   ],
   "metadata": {
    "collapsed": false,
    "pycharm": {
     "name": "#%%\n"
    }
   }
  },
  {
   "cell_type": "code",
   "execution_count": 18,
   "outputs": [
    {
     "ename": "AttributeError",
     "evalue": "'Tensor' object has no attribute 'value'",
     "output_type": "error",
     "traceback": [
      "\u001B[1;31m---------------------------------------------------------------------------\u001B[0m",
      "\u001B[1;31mAttributeError\u001B[0m                            Traceback (most recent call last)",
      "\u001B[1;32m~\\AppData\\Local\\Temp\\ipykernel_4268\\839190106.py\u001B[0m in \u001B[0;36m<module>\u001B[1;34m\u001B[0m\n\u001B[1;32m----> 1\u001B[1;33m \u001B[0mb\u001B[0m\u001B[1;33m.\u001B[0m\u001B[0mvalue\u001B[0m\u001B[1;33m\u001B[0m\u001B[1;33m\u001B[0m\u001B[0m\n\u001B[0m",
      "\u001B[1;31mAttributeError\u001B[0m: 'Tensor' object has no attribute 'value'"
     ]
    }
   ],
   "source": [
    "b.value"
   ],
   "metadata": {
    "collapsed": false,
    "pycharm": {
     "name": "#%%\n"
    }
   }
  },
  {
   "cell_type": "code",
   "execution_count": 21,
   "outputs": [
    {
     "ename": "AttributeError",
     "evalue": "'Tensor' object has no attribute 'value'",
     "output_type": "error",
     "traceback": [
      "\u001B[1;31m---------------------------------------------------------------------------\u001B[0m",
      "\u001B[1;31mAttributeError\u001B[0m                            Traceback (most recent call last)",
      "\u001B[1;32m~\\AppData\\Local\\Temp\\ipykernel_4268\\277089650.py\u001B[0m in \u001B[0;36m<module>\u001B[1;34m\u001B[0m\n\u001B[0;32m      2\u001B[0m \u001B[1;33m\u001B[0m\u001B[0m\n\u001B[0;32m      3\u001B[0m \u001B[0mx\u001B[0m \u001B[1;33m=\u001B[0m \u001B[0mmindspore\u001B[0m\u001B[1;33m.\u001B[0m\u001B[0mTensor\u001B[0m\u001B[1;33m(\u001B[0m\u001B[1;33m[\u001B[0m\u001B[1;36m0\u001B[0m\u001B[1;33m]\u001B[0m\u001B[1;33m)\u001B[0m\u001B[1;33m\u001B[0m\u001B[1;33m\u001B[0m\u001B[0m\n\u001B[1;32m----> 4\u001B[1;33m \u001B[1;32mif\u001B[0m \u001B[0mx\u001B[0m\u001B[1;33m.\u001B[0m\u001B[0mvalue\u001B[0m\u001B[1;33m(\u001B[0m\u001B[1;33m)\u001B[0m\u001B[1;33m==\u001B[0m\u001B[1;36m1\u001B[0m\u001B[1;33m:\u001B[0m\u001B[1;33m\u001B[0m\u001B[1;33m\u001B[0m\u001B[0m\n\u001B[0m\u001B[0;32m      5\u001B[0m     \u001B[0mprint\u001B[0m\u001B[1;33m(\u001B[0m\u001B[1;34m\"1\"\u001B[0m\u001B[1;33m)\u001B[0m\u001B[1;33m\u001B[0m\u001B[1;33m\u001B[0m\u001B[0m\n\u001B[0;32m      6\u001B[0m \u001B[1;33m\u001B[0m\u001B[0m\n",
      "\u001B[1;31mAttributeError\u001B[0m: 'Tensor' object has no attribute 'value'"
     ]
    }
   ],
   "source": [
    "import mindspore\n",
    "\n",
    "x = mindspore.Tensor([0])\n",
    "if x.value()==1:\n",
    "    print(\"1\")"
   ],
   "metadata": {
    "collapsed": false,
    "pycharm": {
     "name": "#%%\n"
    }
   }
  },
  {
   "cell_type": "code",
   "execution_count": null,
   "outputs": [],
   "source": [],
   "metadata": {
    "collapsed": false,
    "pycharm": {
     "name": "#%%\n"
    }
   }
  }
 ],
 "metadata": {
  "kernelspec": {
   "display_name": "Python 3",
   "language": "python",
   "name": "python3"
  },
  "language_info": {
   "codemirror_mode": {
    "name": "ipython",
    "version": 2
   },
   "file_extension": ".py",
   "mimetype": "text/x-python",
   "name": "python",
   "nbconvert_exporter": "python",
   "pygments_lexer": "ipython2",
   "version": "2.7.6"
  }
 },
 "nbformat": 4,
 "nbformat_minor": 0
}